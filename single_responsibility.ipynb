{
 "cells": [
  {
   "attachments": {},
   "cell_type": "markdown",
   "metadata": {},
   "source": [
    "### **Single Responsibility**\n",
    "(SOLID Principles)\n",
    "\n",
    "It states that a class should have only one reason to change, meaning it should have only one primary responsibility. This helps to keep your code modular, maintainable, and easier to understand."
   ]
  },
  {
   "attachments": {},
   "cell_type": "markdown",
   "metadata": {},
   "source": [
    "**Example 1 (Problem)**"
   ]
  },
  {
   "cell_type": "code",
   "execution_count": 7,
   "metadata": {},
   "outputs": [],
   "source": [
    "class CalorieTracker:\n",
    "    def __init__(self, max_calories) -> None:\n",
    "        self.max_calories = max_calories\n",
    "        self.current_calories = 0\n",
    "\n",
    "    def track_calories(self, calorie_count):\n",
    "        self.current_calories += calorie_count\n",
    "        if self.current_calories > self.max_calories:\n",
    "            self.log_calorie_surplus()\n",
    "\n",
    "    def log_calorie_surplus(self):\n",
    "        print(\"Max calories exceeded\")"
   ]
  },
  {
   "attachments": {},
   "cell_type": "markdown",
   "metadata": {},
   "source": [
    "It is a class to track calorie. It has 2 functions\n",
    "- to update calories\n",
    "- to log if total calorie taken is exceeding the max limit"
   ]
  },
  {
   "cell_type": "code",
   "execution_count": 8,
   "metadata": {},
   "outputs": [
    {
     "name": "stdout",
     "output_type": "stream",
     "text": [
      "Max calories exceeded\n"
     ]
    }
   ],
   "source": [
    "calorieTracker = CalorieTracker(2000)\n",
    "calorieTracker.track_calories(500)\n",
    "calorieTracker.track_calories(1000)\n",
    "calorieTracker.track_calories(700)"
   ]
  },
  {
   "attachments": {},
   "cell_type": "markdown",
   "metadata": {},
   "source": [
    "After devouring 2200 calorie the warning is logged."
   ]
  },
  {
   "attachments": {},
   "cell_type": "markdown",
   "metadata": {},
   "source": [
    "So this class is doing 2 tasks. This is wrong. The logging function shouldn't be a sub task of the calorie tracking class. Because, if we ever need to modify the logger function, we will be changing the complete class which is inefficient. So, we will use a separate function for the logging purpose."
   ]
  },
  {
   "attachments": {},
   "cell_type": "markdown",
   "metadata": {},
   "source": [
    "**Example 1 (Solution)**"
   ]
  },
  {
   "cell_type": "code",
   "execution_count": 9,
   "metadata": {},
   "outputs": [],
   "source": [
    "def log_message(message):\n",
    "    print(message)"
   ]
  },
  {
   "attachments": {},
   "cell_type": "markdown",
   "metadata": {},
   "source": [
    "It is a separate function for the logging functionality. Where we can change the logging procedure without changing the main class."
   ]
  },
  {
   "cell_type": "code",
   "execution_count": 10,
   "metadata": {},
   "outputs": [],
   "source": [
    "class CalorieTracker:\n",
    "    def __init__(self, max_calories) -> None:\n",
    "        self.max_calories = max_calories\n",
    "        self.current_calories = 0\n",
    "\n",
    "    def track_calories(self, calorie_count):\n",
    "        self.current_calories += calorie_count\n",
    "        if self.current_calories > self.max_calories:\n",
    "            log_message(\"Max calories exceeded\")"
   ]
  },
  {
   "cell_type": "code",
   "execution_count": 11,
   "metadata": {},
   "outputs": [
    {
     "name": "stdout",
     "output_type": "stream",
     "text": [
      "Max calories exceeded\n"
     ]
    }
   ],
   "source": [
    "calorieTracker = CalorieTracker(2000)\n",
    "calorieTracker.track_calories(500)\n",
    "calorieTracker.track_calories(1000)\n",
    "calorieTracker.track_calories(700)"
   ]
  },
  {
   "attachments": {},
   "cell_type": "markdown",
   "metadata": {},
   "source": [
    "We are now using the logMessage function inside the Calorie Tracker class."
   ]
  },
  {
   "attachments": {},
   "cell_type": "markdown",
   "metadata": {},
   "source": [
    "**Example 2 (Problem)**"
   ]
  },
  {
   "cell_type": "code",
   "execution_count": 2,
   "metadata": {},
   "outputs": [],
   "source": [
    "class Order:\n",
    "    items = []\n",
    "    quantities = []\n",
    "    prices = []\n",
    "    status = \"open\"\n",
    "\n",
    "    def add_item(self, name, quantity, price):\n",
    "        self.items.append(name)\n",
    "        self.quantities.append(quantity)\n",
    "        self.prices.append(price)\n",
    "\n",
    "    def total_price(self):\n",
    "        total = 0\n",
    "        for i in range(len(self.prices)):\n",
    "            total += self.quantities[i] * self.prices[i]\n",
    "        return total\n",
    "\n",
    "    def pay(self, payment_type, security_code):\n",
    "        if payment_type == \"debit\":\n",
    "            print(\"Processing debit payment type\")\n",
    "            print(f\"Verifying security code: {security_code}\")\n",
    "            self.status = \"paid\"\n",
    "            print(\"Payment Completed\")\n",
    "        elif payment_type == \"credit\":\n",
    "            print(\"Processing credit payment type\")\n",
    "            print(f\"Verifying security code: {security_code}\")\n",
    "            self.satus = \"paid\"\n",
    "            print(\"Payment Completed\")\n",
    "        else:\n",
    "            raise Exception(f\"Unknown payment type: {payment_type}\")"
   ]
  },
  {
   "attachments": {},
   "cell_type": "markdown",
   "metadata": {},
   "source": [
    "This is a class for taking orders. It has 3 functions\n",
    "- adding items\n",
    "- getting total price\n",
    "- handling payment\n",
    "\n",
    "Handling payment has nothing to do with order. So, it is violating the single responsibility principle."
   ]
  },
  {
   "cell_type": "code",
   "execution_count": 3,
   "metadata": {},
   "outputs": [
    {
     "name": "stdout",
     "output_type": "stream",
     "text": [
      "Total price: 210\n",
      "Processing debit payment type\n",
      "Verifying security code: 1234567\n",
      "Payment Completed\n"
     ]
    }
   ],
   "source": [
    "order = Order()\n",
    "order.add_item(\"Keyboard\", 1, 50)\n",
    "order.add_item(\"SSD\", 1, 150)\n",
    "order.add_item(\"USB cable\", 2, 5)\n",
    "\n",
    "print(f'Total price: {order.total_price()}')\n",
    "order.pay(\"debit\", \"1234567\")"
   ]
  },
  {
   "attachments": {},
   "cell_type": "markdown",
   "metadata": {},
   "source": [
    "We can see here everything is working properly. But we need to fix the payment handler problem. We have refactored it below"
   ]
  },
  {
   "attachments": {},
   "cell_type": "markdown",
   "metadata": {},
   "source": [
    "**Example 2 (Solution)**"
   ]
  },
  {
   "cell_type": "code",
   "execution_count": 5,
   "metadata": {},
   "outputs": [],
   "source": [
    "class Order:\n",
    "    items = []\n",
    "    quantities = []\n",
    "    prices = []\n",
    "    status = \"open\"\n",
    "\n",
    "    def add_item(self, name, quantity, price):\n",
    "        self.items.append(name)\n",
    "        self.quantities.append(quantity)\n",
    "        self.prices.append(price)\n",
    "\n",
    "    def total_price(self):\n",
    "        total = 0\n",
    "        for i in range(len(self.prices)):\n",
    "            total += self.quantities[i] * self.prices[i]\n",
    "        return total"
   ]
  },
  {
   "attachments": {},
   "cell_type": "markdown",
   "metadata": {},
   "source": [
    "PaymentProcessor class has been created to handle the payment process exclusively."
   ]
  },
  {
   "cell_type": "code",
   "execution_count": 4,
   "metadata": {},
   "outputs": [],
   "source": [
    "class PaymentProcessor:\n",
    "    def pay_debit(self, order, security_code):\n",
    "        print(\"Processing debit payment type\")\n",
    "        print(f\"Verifying security code: {security_code}\")\n",
    "        self.status = \"paid\"\n",
    "        print(\"Payment completed\")\n",
    "    def pay_credit(self, order, security_code):\n",
    "        print(\"Processing credit payment type\")\n",
    "        print(f\"Verifying security code: {security_code}\")\n",
    "        self.status = \"paid\"\n",
    "        print(\"Payment completed\")"
   ]
  },
  {
   "cell_type": "code",
   "execution_count": 6,
   "metadata": {},
   "outputs": [
    {
     "name": "stdout",
     "output_type": "stream",
     "text": [
      "Total price: 210\n",
      "Processing debit payment type\n",
      "Verifying security code: 1234567\n",
      "Payment completed\n"
     ]
    }
   ],
   "source": [
    "order = Order()\n",
    "order.add_item(\"Keyboard\", 1, 50)\n",
    "order.add_item(\"SSD\", 1, 150)\n",
    "order.add_item(\"USB cable\", 2, 5)\n",
    "\n",
    "print(f'Total price: {order.total_price()}')\n",
    "payment_handler = PaymentProcessor()\n",
    "payment_handler.pay_debit(order, \"1234567\")"
   ]
  },
  {
   "attachments": {},
   "cell_type": "markdown",
   "metadata": {},
   "source": [
    "We can see that the results are exactly same. But the single responsibility is maintained."
   ]
  }
 ],
 "metadata": {
  "kernelspec": {
   "display_name": "venv",
   "language": "python",
   "name": "python3"
  },
  "language_info": {
   "codemirror_mode": {
    "name": "ipython",
    "version": 3
   },
   "file_extension": ".py",
   "mimetype": "text/x-python",
   "name": "python",
   "nbconvert_exporter": "python",
   "pygments_lexer": "ipython3",
   "version": "3.11.1"
  },
  "orig_nbformat": 4
 },
 "nbformat": 4,
 "nbformat_minor": 2
}
