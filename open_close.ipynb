{
 "cells": [
  {
   "attachments": {},
   "cell_type": "markdown",
   "metadata": {},
   "source": [
    "### **Open Close Principle**\n",
    "(SOLID Principles)\n",
    "\n",
    "It states that software entities (classes, modules, functions, etc.) should be open for extension but closed for modification. In simpler terms, you should be able to add new features or functionalities without altering existing code. This promotes code reusability, modularity, and maintainability while reducing the risk of introducing bugs in already-tested code."
   ]
  },
  {
   "cell_type": "markdown",
   "metadata": {},
   "source": [
    "**Example 1 (Problem)**"
   ]
  },
  {
   "cell_type": "code",
   "execution_count": 22,
   "metadata": {},
   "outputs": [],
   "source": [
    "def print_quiz(questions):\n",
    "    for question in questions:\n",
    "        print(question.description)\n",
    "\n",
    "        match question.type:\n",
    "            case \"boolean\":\n",
    "                print(\"1. True\")\n",
    "                print(\"2. False\")\n",
    "            case \"multiple_choice\":\n",
    "                for idx, option in enumerate(question.options):\n",
    "                    print(f\"{idx+1}. {option}\")\n",
    "            case \"text\":\n",
    "                print(\"Answer: \")\n",
    "        print()"
   ]
  },
  {
   "attachments": {},
   "cell_type": "markdown",
   "metadata": {},
   "source": [
    "In the first example we can see a function named \"print_quiz\". This function takes in a \"questions\" parameter which is a list of \"Question\" objects. It then runs a loop on each Question and prints different types of questions in different manner. It uses a \"match-case\" function to differentiate each type of question."
   ]
  },
  {
   "cell_type": "code",
   "execution_count": 11,
   "metadata": {},
   "outputs": [],
   "source": [
    "# helper class\n",
    "class Question:\n",
    "    def __init__(self, type=\"\", description=\"\", options=[]):\n",
    "        self.type = type\n",
    "        self.description = description\n",
    "        self.options = options"
   ]
  },
  {
   "attachments": {},
   "cell_type": "markdown",
   "metadata": {},
   "source": [
    "This is the \"Question\" class. This class is a universal class for every types of question. So, it is already an inefficient class. It is responsible for multiple type of question."
   ]
  },
  {
   "cell_type": "code",
   "execution_count": 14,
   "metadata": {},
   "outputs": [],
   "source": [
    "questions = [\n",
    "    Question(\n",
    "        type=\"boolean\", \n",
    "        description=\"This video is useful.\"\n",
    "    ),\n",
    "    Question(\n",
    "        type=\"multiple_choice\",\n",
    "        description=\"What is your favourite language ?\",\n",
    "        options=[\"CSS\", \"HTML\", \"JS\", \"Python\"],\n",
    "    ),\n",
    "    Question(\n",
    "        type=\"text\",\n",
    "        description=\"Describe your favourite JS feature\",\n",
    "    ),\n",
    "]"
   ]
  },
  {
   "attachments": {},
   "cell_type": "markdown",
   "metadata": {},
   "source": [
    "It is the \"questions\" variable containing all the questions."
   ]
  },
  {
   "cell_type": "code",
   "execution_count": 23,
   "metadata": {},
   "outputs": [
    {
     "name": "stdout",
     "output_type": "stream",
     "text": [
      "This video is useful.\n",
      "1. True\n",
      "2. False\n",
      "\n",
      "What is your favourite language ?\n",
      "1. CSS\n",
      "2. HTML\n",
      "3. JS\n",
      "4. Python\n",
      "\n",
      "Describe your favourite JS feature\n",
      "Answer: \n",
      "\n"
     ]
    }
   ],
   "source": [
    "print_quiz(questions)"
   ]
  },
  {
   "cell_type": "code",
   "execution_count": 25,
   "metadata": {},
   "outputs": [],
   "source": [
    "def print_quiz(questions):\n",
    "    for question in questions:\n",
    "        print(question.description)\n",
    "\n",
    "        match question.type:\n",
    "            case \"boolean\":\n",
    "                print(\"1. True\")\n",
    "                print(\"2. False\")\n",
    "            case \"multiple_choice\":\n",
    "                for idx, option in enumerate(question.options):\n",
    "                    print(f\"{idx+1}. {option}\")\n",
    "            case \"text\":\n",
    "                print(\"Answer: \")\n",
    "            case \"range\":\n",
    "                print(f\"Minimum: \")\n",
    "                print(f\"Maximum: \")\n",
    "        print()"
   ]
  },
  {
   "attachments": {},
   "cell_type": "markdown",
   "metadata": {},
   "source": [
    "The \"open/case principle\" is violated when we introduce a new type of questions. We have to modify the original function. Here we have done it when we added the new \"range\" type questions."
   ]
  },
  {
   "cell_type": "code",
   "execution_count": 24,
   "metadata": {},
   "outputs": [],
   "source": [
    "questions = [\n",
    "    Question(\n",
    "        type=\"boolean\", \n",
    "        description=\"This video is useful.\"\n",
    "    ),\n",
    "    Question(\n",
    "        type=\"multiple_choice\",\n",
    "        description=\"What is your favourite language ?\",\n",
    "        options=[\"CSS\", \"HTML\", \"JS\", \"Python\"],\n",
    "    ),\n",
    "    Question(\n",
    "        type=\"text\",\n",
    "        description=\"Describe your favourite JS feature\",\n",
    "    ),\n",
    "    Question(\n",
    "        type=\"range\",\n",
    "        description=\"What is the speed limit in your city ?\"\n",
    "    )\n",
    "]"
   ]
  },
  {
   "cell_type": "code",
   "execution_count": 26,
   "metadata": {},
   "outputs": [
    {
     "name": "stdout",
     "output_type": "stream",
     "text": [
      "This video is useful.\n",
      "1. True\n",
      "2. False\n",
      "\n",
      "What is your favourite language ?\n",
      "1. CSS\n",
      "2. HTML\n",
      "3. JS\n",
      "4. Python\n",
      "\n",
      "Describe your favourite JS feature\n",
      "Answer: \n",
      "\n",
      "What is the speed limit in your city ?\n",
      "Minimum: \n",
      "Maximum: \n",
      "\n"
     ]
    }
   ],
   "source": [
    "print_quiz(questions)"
   ]
  },
  {
   "attachments": {},
   "cell_type": "markdown",
   "metadata": {},
   "source": [
    "We can see that this method works. But underneath it is violating the \"open/close principle\""
   ]
  },
  {
   "attachments": {},
   "cell_type": "markdown",
   "metadata": {},
   "source": [
    "**Example 1 (Solution)**"
   ]
  },
  {
   "cell_type": "code",
   "execution_count": 27,
   "metadata": {},
   "outputs": [],
   "source": [
    "class BooleanQuestion:\n",
    "    def __init__(self, description) -> None:\n",
    "        self.description = description\n",
    "\n",
    "    def print_question(self):\n",
    "        print(\"1. True\")\n",
    "        print(\"2. False\")\n",
    "\n",
    "\n",
    "class MultipleChoiceQuestion:\n",
    "    def __init__(self, description, choices) -> None:\n",
    "        self.description = description\n",
    "        self.choices = choices\n",
    "\n",
    "    def print_question(self):\n",
    "        for idx, choice in enumerate(self.choices):\n",
    "            print(f\"{idx+1}. {choice}\")\n",
    "\n",
    "\n",
    "class TextQuestion:\n",
    "    def __init__(self, description) -> None:\n",
    "        self.description = description\n",
    "\n",
    "    def print_question(self):\n",
    "        print(\"Answer: \")\n",
    "\n",
    "\n",
    "class RangeQuestion:\n",
    "    def __init__(self, description) -> None:\n",
    "        self.description = description\n",
    "\n",
    "    def print_question(self):\n",
    "        print(\"Maximum: \")\n",
    "        print(\"Minimum: \")"
   ]
  },
  {
   "attachments": {},
   "cell_type": "markdown",
   "metadata": {},
   "source": [
    "We have solved the problem by introducing different classes for different types of questions. Thus while adding a new type of question, we will only have to add a new question class and not needing to change the original function. "
   ]
  },
  {
   "cell_type": "code",
   "execution_count": 28,
   "metadata": {},
   "outputs": [],
   "source": [
    "questions = [\n",
    "    BooleanQuestion(\"This video is useful.\"),\n",
    "    MultipleChoiceQuestion(\n",
    "        \"What is your favourite language ?\", [\"CSS\", \"HTML\", \"JS\", \"Python\"]\n",
    "    ),\n",
    "    TextQuestion(\"Describe your favourite JS feature-\"),\n",
    "    RangeQuestion(\"What is the speed limit in your city ?\"),\n",
    "]"
   ]
  },
  {
   "attachments": {},
   "cell_type": "markdown",
   "metadata": {},
   "source": [
    "Here we have created the \"questions\" variable that now contains different question objects, where each objects has their own independent methods for printing to the console."
   ]
  },
  {
   "cell_type": "code",
   "execution_count": 29,
   "metadata": {},
   "outputs": [],
   "source": [
    "def print_quiz(questions):\n",
    "    for question in questions:\n",
    "        print(question.description)\n",
    "        question.print_question()\n",
    "        print()"
   ]
  },
  {
   "attachments": {},
   "cell_type": "markdown",
   "metadata": {},
   "source": [
    "We have refactored the \"print_quiz\" function. We can see that it has become more simplified and looping through all the print_question methods inside each question object."
   ]
  },
  {
   "cell_type": "code",
   "execution_count": 30,
   "metadata": {},
   "outputs": [
    {
     "name": "stdout",
     "output_type": "stream",
     "text": [
      "This video is useful.\n",
      "1. True\n",
      "2. False\n",
      "\n",
      "What is your favourite language ?\n",
      "1. CSS\n",
      "2. HTML\n",
      "3. JS\n",
      "4. Python\n",
      "\n",
      "Describe your favourite JS feature-\n",
      "Answer: \n",
      "\n",
      "What is the speed limit in your city ?\n",
      "Maximum: \n",
      "Minimum: \n",
      "\n"
     ]
    }
   ],
   "source": [
    "print_quiz(questions)"
   ]
  },
  {
   "attachments": {},
   "cell_type": "markdown",
   "metadata": {},
   "source": [
    "**Example 2 (Problem)**"
   ]
  },
  {
   "cell_type": "code",
   "execution_count": 31,
   "metadata": {},
   "outputs": [],
   "source": [
    "class Order:\n",
    "    items = []\n",
    "    quantities = []\n",
    "    prices = []\n",
    "    status = \"open\"\n",
    "\n",
    "    def add_item(self, name, quantity, price):\n",
    "        self.items.append(name)\n",
    "        self.quantities.append(quantity)\n",
    "        self.prices.append(price)\n",
    "\n",
    "    def total_price(self):\n",
    "        total = 0\n",
    "        for i in range(len(self.prices)):\n",
    "            total += self.quantities[i] * self.prices[i]\n",
    "        return total"
   ]
  },
  {
   "attachments": {},
   "cell_type": "markdown",
   "metadata": {},
   "source": [
    "In this problem we have an \"Order\" class. It handles orders and has methods for adding new item to order and for showing the total price."
   ]
  },
  {
   "cell_type": "code",
   "execution_count": 44,
   "metadata": {},
   "outputs": [],
   "source": [
    "class PaymentProcessor:\n",
    "    def pay_debit(self, order, security_code):\n",
    "        print(\"Processing debit payment type\")\n",
    "        print(f\"Verifying security code: {security_code}\")\n",
    "        order.status = \"paid\"\n",
    "        print(\"Payment completed\")\n",
    "    def pay_credit(self, order, security_code):\n",
    "        print(\"Processing credit payment type\")\n",
    "        print(f\"Verifying security code: {security_code}\")\n",
    "        order.status = \"paid\"\n",
    "        print(\"Payment completed\")"
   ]
  },
  {
   "attachments": {},
   "cell_type": "markdown",
   "metadata": {},
   "source": [
    "This is the \"PaymentProcessor\" class which handles different payment methods in a single class. If we want to add new method then we will have to modify the entire class."
   ]
  },
  {
   "cell_type": "code",
   "execution_count": 45,
   "metadata": {},
   "outputs": [
    {
     "name": "stdout",
     "output_type": "stream",
     "text": [
      "Total price: 1260\n",
      "Processing debit payment type\n",
      "Verifying security code: 1234567\n",
      "Payment completed\n"
     ]
    }
   ],
   "source": [
    "order = Order()\n",
    "order.add_item(\"Keyboard\", 1, 50)\n",
    "order.add_item(\"SSD\", 1, 150)\n",
    "order.add_item(\"USB cable\", 2, 5)\n",
    "\n",
    "print(f'Total price: {order.total_price()}')\n",
    "payment_handler = PaymentProcessor()\n",
    "payment_handler.pay_debit(order, \"1234567\")"
   ]
  },
  {
   "attachments": {},
   "cell_type": "markdown",
   "metadata": {},
   "source": [
    "**Example 2 (Solution)**"
   ]
  },
  {
   "cell_type": "code",
   "execution_count": 34,
   "metadata": {},
   "outputs": [],
   "source": [
    "from abc import ABC, abstractmethod"
   ]
  },
  {
   "cell_type": "code",
   "execution_count": 42,
   "metadata": {},
   "outputs": [],
   "source": [
    "class PaymentProcessor(ABC):\n",
    "    @abstractmethod\n",
    "    def pay(self, order, security_code):\n",
    "        pass\n",
    "\n",
    "class DebitPaymentProcessor(PaymentProcessor):\n",
    "    def pay(self, order, security_code):\n",
    "        print(\"Processing debit payment\")\n",
    "        print(f\"Verifying security code: {security_code}\")\n",
    "        order.status = \"paid\"\n",
    "        print(\"Payment completed\")\n",
    "\n",
    "class CreditPaymentProcessor(PaymentProcessor):\n",
    "    def pay(self, order, security_code):\n",
    "        print(\"Processing credit payment\")\n",
    "        print(f\"Verifying security code: {security_code}\")\n",
    "        order.status = \"paid\"\n",
    "        print(\"Payment completed\")\n",
    "\n",
    "class PaypalPaymentProcessor(PaymentProcessor):\n",
    "    def pay(self, order, security_code):\n",
    "        print(\"Processing paypal payment\")\n",
    "        print(f\"Verifying security code: {security_code}\")\n",
    "        order.status = \"paid\"\n",
    "        print(\"Payment completed\")"
   ]
  },
  {
   "attachments": {},
   "cell_type": "markdown",
   "metadata": {},
   "source": [
    "We created different classes for different payment methods. In this way, we can add new payment methods by just creating a separate class for that method."
   ]
  },
  {
   "cell_type": "code",
   "execution_count": 40,
   "metadata": {},
   "outputs": [
    {
     "name": "stdout",
     "output_type": "stream",
     "text": [
      "Total price: 840\n",
      "Processing paypal payment\n",
      "Verifying security code: 1234567\n",
      "Payment completed\n"
     ]
    }
   ],
   "source": [
    "order = Order()\n",
    "order.add_item(\"Keyboard\", 1, 50)\n",
    "order.add_item(\"SSD\", 1, 150)\n",
    "order.add_item(\"USB cable\", 2, 5)\n",
    "\n",
    "print(f'Total price: {order.total_price()}')\n",
    "payment_handler = PaypalPaymentProcessor()\n",
    "payment_handler.pay(order, \"1234567\")"
   ]
  }
 ],
 "metadata": {
  "kernelspec": {
   "display_name": "venv",
   "language": "python",
   "name": "python3"
  },
  "language_info": {
   "codemirror_mode": {
    "name": "ipython",
    "version": 3
   },
   "file_extension": ".py",
   "mimetype": "text/x-python",
   "name": "python",
   "nbconvert_exporter": "python",
   "pygments_lexer": "ipython3",
   "version": "3.11.1"
  },
  "orig_nbformat": 4
 },
 "nbformat": 4,
 "nbformat_minor": 2
}
