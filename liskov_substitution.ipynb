{
 "cells": [
  {
   "attachments": {},
   "cell_type": "markdown",
   "metadata": {},
   "source": [
    "### **Liskov Substitution**\n",
    "(SOLID Principles)\n",
    "\n",
    "In simple terms, it means that objects of a derived (subclass) should be able to replace objects of the base class (parent class) without affecting the correctness of the program. Essentially, if a class S is a subclass of class T, you should be able to use an object of class S wherever an object of class T is expected, without causing any issues or changing the program's behavior."
   ]
  },
  {
   "attachments": {},
   "cell_type": "markdown",
   "metadata": {},
   "source": [
    "**Example 1 (Problem)**"
   ]
  },
  {
   "cell_type": "code",
   "execution_count": 1,
   "metadata": {},
   "outputs": [],
   "source": [
    "class Order:\n",
    "    items = []\n",
    "    quantities = []\n",
    "    prices = []\n",
    "    status = \"open\"\n",
    "\n",
    "    def add_item(self, name, quantity, price):\n",
    "        self.items.append(name)\n",
    "        self.quantities.append(quantity)\n",
    "        self.prices.append(price)\n",
    "\n",
    "    def total_price(self):\n",
    "        total = 0\n",
    "        for i in range(len(self.prices)):\n",
    "            total += self.quantities[i] * self.prices[i]\n",
    "        return total"
   ]
  },
  {
   "attachments": {},
   "cell_type": "markdown",
   "metadata": {},
   "source": [
    "This is the \"Order\" class that handles only the order related function."
   ]
  },
  {
   "cell_type": "code",
   "execution_count": 4,
   "metadata": {},
   "outputs": [],
   "source": [
    "from abc import ABC, abstractmethod"
   ]
  },
  {
   "cell_type": "code",
   "execution_count": 11,
   "metadata": {},
   "outputs": [],
   "source": [
    "class PaymentProcessor(ABC):\n",
    "    @abstractmethod\n",
    "    def pay(self, order, security_code):\n",
    "        pass"
   ]
  },
  {
   "cell_type": "code",
   "execution_count": 12,
   "metadata": {},
   "outputs": [],
   "source": [
    "class DebitPaymentProcessor(PaymentProcessor):\n",
    "    def pay(self, order, security_code):\n",
    "        print(\"Processing debit payment\")\n",
    "        print(f\"Verifying security code: {security_code}\")\n",
    "        order.status = \"paid\"\n",
    "        print(\"Payment completed\")\n",
    "\n",
    "class CreditPaymentProcessor(PaymentProcessor):\n",
    "    def pay(self, order, security_code):\n",
    "        print(\"Processing credit payment\")\n",
    "        print(f\"Verifying security code: {security_code}\")\n",
    "        order.status = \"paid\"\n",
    "        print(\"Payment completed\")"
   ]
  },
  {
   "attachments": {},
   "cell_type": "markdown",
   "metadata": {},
   "source": [
    "This is the PaymentProcessor class and some of its subclasses for handling the payment."
   ]
  },
  {
   "cell_type": "code",
   "execution_count": 9,
   "metadata": {},
   "outputs": [
    {
     "name": "stdout",
     "output_type": "stream",
     "text": [
      "Total price: 210\n",
      "Processing debit payment\n",
      "Verifying security code: 1234567\n",
      "Payment completed\n"
     ]
    }
   ],
   "source": [
    "order = Order()\n",
    "order.add_item(\"Keyboard\", 1, 50)\n",
    "order.add_item(\"SSD\", 1, 150)\n",
    "order.add_item(\"USB cable\", 2, 5)\n",
    "\n",
    "print(f'Total price: {order.total_price()}')\n",
    "payment_handler = DebitPaymentProcessor()\n",
    "payment_handler.pay(order, \"1234567\")"
   ]
  },
  {
   "cell_type": "code",
   "execution_count": 8,
   "metadata": {},
   "outputs": [],
   "source": [
    "class PaypalPaymentProcessor(PaymentProcessor):\n",
    "    def pay(self, order, security_code):\n",
    "        print(\"Processing paypal payment\")\n",
    "        print(f\"Verifying email address: {security_code}\")\n",
    "        order.status = \"paid\"\n",
    "        print(\"Payment completed\")"
   ]
  },
  {
   "attachments": {},
   "cell_type": "markdown",
   "metadata": {},
   "source": [
    "The problem arised when we have introduced the paypal payment class. Paypal varifies using email address, not security code. But the \"PaymentProcessor\" class from which the \"PaypalPaymentProcessor\" inherited from, has method \"pay\" which uses the **security code** parameter."
   ]
  },
  {
   "attachments": {},
   "cell_type": "markdown",
   "metadata": {},
   "source": [
    "As a result in this scenario, we shouldn't replace instance of \"PaymentProcessor\" class with instance of \"PaypalPaymentProcessor\" class."
   ]
  },
  {
   "attachments": {},
   "cell_type": "markdown",
   "metadata": {},
   "source": [
    "To solve this issue we can refractor the \"PaymentProcessor\" class."
   ]
  },
  {
   "attachments": {},
   "cell_type": "markdown",
   "metadata": {},
   "source": [
    "**Example 1 (Solution)**"
   ]
  },
  {
   "cell_type": "code",
   "execution_count": 13,
   "metadata": {},
   "outputs": [],
   "source": [
    "class PaymentProcessor(ABC):\n",
    "    @abstractmethod\n",
    "    def pay(self, order):\n",
    "        pass"
   ]
  },
  {
   "attachments": {},
   "cell_type": "markdown",
   "metadata": {},
   "source": [
    "We removed the \"security code\" parameter from the \"pay\" abstract method"
   ]
  },
  {
   "cell_type": "code",
   "execution_count": 18,
   "metadata": {},
   "outputs": [],
   "source": [
    "class DebitPaymentProcessor(PaymentProcessor):\n",
    "    def __init__(self, security_code) -> None:\n",
    "        super().__init__()\n",
    "        self.security_code = security_code\n",
    "\n",
    "    def pay(self, order):\n",
    "        print(\"Processing debit payment\")\n",
    "        print(f\"Verifying security code: {self.security_code}\")\n",
    "        order.status = \"paid\"\n",
    "        print(\"Payment completed\")\n",
    "\n",
    "\n",
    "class CreditPaymentProcessor(PaymentProcessor):\n",
    "    def __init__(self, security_code) -> None:\n",
    "        super().__init__()\n",
    "        self.security_code = security_code\n",
    "\n",
    "    def pay(self, order):\n",
    "        print(\"Processing credit payment\")\n",
    "        print(f\"Verifying security code: {self.security_code}\")\n",
    "        order.status = \"paid\"\n",
    "        print(\"Payment completed\")\n",
    "\n",
    "\n",
    "class PaypalPaymentProcessor(PaymentProcessor):\n",
    "    def __init__(self, email_address) -> None:\n",
    "        super().__init__()\n",
    "        self.email_address = email_address\n",
    "\n",
    "    def pay(self, order):\n",
    "        print(\"Processing paypal payment\")\n",
    "        print(f\"Verifying email address: {self.email_address}\")\n",
    "        order.status = \"paid\"\n",
    "        print(\"Payment completed\")"
   ]
  },
  {
   "attachments": {},
   "cell_type": "markdown",
   "metadata": {},
   "source": [
    "Then we included the necessary parameter through the initialization function to each of the subclasses."
   ]
  },
  {
   "cell_type": "code",
   "execution_count": 20,
   "metadata": {},
   "outputs": [
    {
     "name": "stdout",
     "output_type": "stream",
     "text": [
      "Total price: 840\n",
      "Processing paypal payment\n",
      "Verifying email address: test@gmail.com\n",
      "Payment completed\n"
     ]
    }
   ],
   "source": [
    "order = Order()\n",
    "order.add_item(\"Keyboard\", 1, 50)\n",
    "order.add_item(\"SSD\", 1, 150)\n",
    "order.add_item(\"USB cable\", 2, 5)\n",
    "\n",
    "print(f'Total price: {order.total_price()}')\n",
    "payment_handler = PaypalPaymentProcessor(\"test@gmail.com\")\n",
    "payment_handler.pay(order)"
   ]
  }
 ],
 "metadata": {
  "kernelspec": {
   "display_name": "venv",
   "language": "python",
   "name": "python3"
  },
  "language_info": {
   "codemirror_mode": {
    "name": "ipython",
    "version": 3
   },
   "file_extension": ".py",
   "mimetype": "text/x-python",
   "name": "python",
   "nbconvert_exporter": "python",
   "pygments_lexer": "ipython3",
   "version": "3.11.1"
  },
  "orig_nbformat": 4
 },
 "nbformat": 4,
 "nbformat_minor": 2
}
